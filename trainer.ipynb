{
  "cells": [
    {
      "cell_type": "markdown",
      "metadata": {
        "colab_type": "text",
        "id": "view-in-github"
      },
      "source": [
        "<a href=\"https://colab.research.google.com/github/abhiksark/gdg-paper-reading/blob/main/trainer.ipynb\" target=\"_parent\"><img src=\"https://colab.research.google.com/assets/colab-badge.svg\" alt=\"Open In Colab\"/></a>"
      ]
    },
    {
      "cell_type": "code",
      "execution_count": null,
      "metadata": {
        "colab": {
          "base_uri": "https://localhost:8080/"
        },
        "id": "rJYerDU2x95R",
        "outputId": "aa43be57-1e79-4112-92ca-c8e9d669f374"
      },
      "outputs": [],
      "source": [
        "# The exclamation mark (!) executes shell commands within a Jupyter Notebook cell when you type (!)\n",
        "!wget https://s3.amazonaws.com/fast-ai-imageclas/imagenette2-320.tgz\n",
        "# wget is used to retrieve content and files from various web servers\n",
        "!tar xf imagenette2-320.tgz\n",
        "# tar is used to create and manipulate tar archives, \n",
        "# x specifies that we want to extract the archive, \n",
        "# and \"f\" specifies the name of the archive file\n",
        "# contents will be extractd to the current directory"
      ]
    },
    {
      "cell_type": "code",
      "execution_count": null,
      "metadata": {
        "colab": {
          "base_uri": "https://localhost:8080/"
        },
        "id": "reqB3es0g7zb",
        "outputId": "0349b8e9-2aa7-404a-d2cb-a42329e84dc7"
      },
      "outputs": [],
      "source": [
        "!git clone https://github.com/abhiksark/gdg-paper-reading.git\n",
        "# git is the command-line version control system used to manage the repository\n",
        "# clone is the command used to create a copy of the repository on your local machine\n",
        "# this command will create a new directory named \"gdg-paper-reading\" in the current working directory \n",
        "# and copy all the files and folders from the remote repository into this new directory"
      ]
    },
    {
      "cell_type": "code",
      "execution_count": null,
      "metadata": {
        "colab": {
          "base_uri": "https://localhost:8080/"
        },
        "id": "Q3YWgl5gixE8",
        "outputId": "354ea210-ce2b-4dd5-abc9-df71ca045e12"
      },
      "outputs": [],
      "source": [
        "%cd gdg-paper-reading\n",
        "# %cd is a magic command used to change the current working directory"
      ]
    },
    {
      "cell_type": "code",
      "execution_count": 5,
      "metadata": {
        "id": "dOC57WNXiVV4"
      },
      "outputs": [],
      "source": [
        "# importing from the week 1 repository\n",
        "%mv week-1\t week_1\n",
        "# rename week-1 to week_1\n",
        "from week_1.vgg13 import VGG13\n",
        "from week_1.vgg16 import VGG16\n",
        "from week_1.vgg19 import VGG19"
      ]
    },
    {
      "cell_type": "code",
      "execution_count": null,
      "metadata": {},
      "outputs": [],
      "source": [
        "# importing packages and  libraries\n",
        "import numpy as np\n",
        "import torch\n",
        "import torchvision\n",
        "import torch.nn as nn\n",
        "import torch.optim as optim\n",
        "import matplotlib.pyplot as plt\n",
        "from torchvision import transforms\n",
        "from torchvision.datasets import ImageFolder\n",
        "from torch.utils.data import DataLoader\n",
        "from tqdm import tqdm"
      ]
    },
    {
      "cell_type": "code",
      "execution_count": null,
      "metadata": {},
      "outputs": [],
      "source": [
        "def find_lr(model, train_loader, criterion, device, optimizer, init_lr=1e-8, final_lr=10, beta=0.98):\n",
        "    \"\"\"\n",
        "    Function to find the optimal learning rate for a given model.\n",
        "    \"\"\"\n",
        "\n",
        "    # Set the model to training mode\n",
        "    model.train()\n",
        "\n",
        "    # Get the number of batches in the training data\n",
        "    num_batches = len(train_loader)\n",
        "\n",
        "    # Calculate the multiplier for updating the learning rate\n",
        "    mult = (final_lr / init_lr) ** (1 / num_batches)\n",
        "\n",
        "    # Initialize the learning rate and set it in the optimizer\n",
        "    lr = init_lr\n",
        "    optimizer.param_groups[0]['lr'] = lr\n",
        "\n",
        "    # Initialize the variables for tracking the loss and learning rate\n",
        "    avg_loss = 0.0\n",
        "    best_loss = 0.0\n",
        "    batch_num = 0\n",
        "    losses = []\n",
        "    log_lrs = []\n",
        "\n",
        "    # Iterate over the batches in the training data\n",
        "    for inputs, labels in tqdm(train_loader, desc=\"Finding Learning Rate\"):\n",
        "        batch_num += 1\n",
        "\n",
        "        # Move the inputs and labels to the device\n",
        "        inputs, labels = inputs.to(device), labels.to(device)\n",
        "\n",
        "        # Reset the gradients\n",
        "        optimizer.zero_grad()\n",
        "\n",
        "        # Forward pass\n",
        "        outputs = model(inputs)\n",
        "\n",
        "        # Compute the loss\n",
        "        loss = criterion(outputs, labels)\n",
        "\n",
        "        # Backward pass\n",
        "        loss.backward()\n",
        "\n",
        "        # Update the parameters\n",
        "        optimizer.step()\n",
        "\n",
        "        # Compute the smoothed loss\n",
        "        avg_loss = beta * avg_loss + (1 - beta) * loss.item()\n",
        "        smoothed_loss = avg_loss / (1 - beta ** batch_num)\n",
        "\n",
        "        # Update the learning rate\n",
        "        lr *= mult\n",
        "        optimizer.param_groups[0]['lr'] = lr\n",
        "\n",
        "        # Record the loss and learning rate\n",
        "        losses.append(smoothed_loss)\n",
        "        log_lrs.append(np.log10(lr))\n",
        "\n",
        "        # Check if the loss has increased by a factor of 4 or more\n",
        "        if batch_num > 1 and smoothed_loss > 4 * best_loss:\n",
        "            break\n",
        "\n",
        "        # Update the best loss if the current loss is lower\n",
        "        if smoothed_loss < best_loss or batch_num == 1:\n",
        "            best_loss = smoothed_loss\n",
        "\n",
        "    return log_lrs, losses\n",
        "\n",
        "\n",
        "def validate(model, dataloader, criterion, device):\n",
        "    # set model to evaluation mode\n",
        "    model.eval()\n",
        "\n",
        "    # initialize variables\n",
        "    running_loss = 0.0\n",
        "    correct = 0\n",
        "    total = 0\n",
        "\n",
        "    # disable gradient calculation for validation\n",
        "    with torch.no_grad():\n",
        "        # iterate over validation data\n",
        "        for inputs, labels in tqdm(dataloader, desc=\"Validation\"):\n",
        "            # move inputs and labels to device\n",
        "            inputs, labels = inputs.to(device), labels.to(device)\n",
        "\n",
        "            # forward pass\n",
        "            outputs = model(inputs)\n",
        "\n",
        "            # compute loss\n",
        "            loss = criterion(outputs, labels)\n",
        "\n",
        "            # update loss and accuracy\n",
        "            running_loss += loss.item()\n",
        "            _, predicted = torch.max(outputs.data, 1)\n",
        "            total += labels.size(0)\n",
        "            correct += (predicted == labels).sum().item()\n",
        "\n",
        "    # calculate average loss and accuracy\n",
        "    avg_loss = running_loss / len(dataloader)\n",
        "    accuracy = correct / total\n",
        "\n",
        "    return avg_loss, accuracy\n",
        "\n",
        "\n",
        "def visualize_kernels(model):\n",
        "    # Get the weights of the first convolutional layer\n",
        "    kernels = model.conv1[0].weight.detach().cpu().numpy()\n",
        "\n",
        "    # Normalize the weights to be between 0 and 1\n",
        "    min_val = kernels.min()\n",
        "    max_val = kernels.max()\n",
        "    normalized_kernels = (kernels - min_val) / (max_val - min_val)\n",
        "\n",
        "    # Plot the kernels\n",
        "    num_kernels = normalized_kernels.shape[0]\n",
        "    num_columns = 8\n",
        "    num_rows = num_kernels // num_columns + int(num_kernels % num_columns > 0)\n",
        "\n",
        "    # Create a figure with the appropriate number of rows and columns\n",
        "    fig, axes = plt.subplots(num_rows, num_columns, figsize=(15, 15))\n",
        "\n",
        "    # Loop through each kernel and plot it on the corresponding axis\n",
        "    for i, ax in enumerate(axes.flat):\n",
        "        if i < num_kernels:\n",
        "            # Transpose the kernel to get the correct shape for plotting\n",
        "            kernel_img = normalized_kernels[i, :, :, :].transpose(1, 2, 0)\n",
        "            ax.imshow(kernel_img)\n",
        "        ax.axis(\"off\")\n",
        "\n",
        "    # Show the plot\n",
        "    plt.show()\n",
        "\n",
        "# Train the model\n",
        "def train(model, dataloader, optimizer, criterion, device, scheduler=None):\n",
        "    \n",
        "    # Set the model to training mode\n",
        "    model.train()\n",
        "\n",
        "    # Initialize variables to keep track of loss and accuracy\n",
        "    running_loss = 0.0\n",
        "    correct = 0\n",
        "    total = 0\n",
        "\n",
        "    # Loop over the data\n",
        "    for inputs, labels in tqdm(dataloader, desc=\"Training\"):\n",
        "        # Move inputs and labels to the device (CPU or GPU)\n",
        "        inputs, labels = inputs.to(device), labels.to(device)\n",
        "\n",
        "        # Reset the gradients\n",
        "        optimizer.zero_grad()\n",
        "\n",
        "        # Forward pass through the model\n",
        "        outputs = model(inputs)\n",
        "\n",
        "        # Compute the loss\n",
        "        loss = criterion(outputs, labels)\n",
        "\n",
        "        # Backward pass and update the weights\n",
        "        loss.backward()\n",
        "        optimizer.step()\n",
        "\n",
        "        # Update the loss and accuracy\n",
        "        running_loss += loss.item()\n",
        "        _, predicted = torch.max(outputs.data, 1)\n",
        "        total += labels.size(0)\n",
        "        correct += (predicted == labels).sum().item()\n",
        "\n",
        "        # Update the learning rate scheduler if one is provided\n",
        "        if scheduler:\n",
        "            scheduler.step()\n",
        "\n",
        "    # Compute the average loss and accuracy for the epoch\n",
        "    avg_loss = running_loss / len(dataloader)\n",
        "    accuracy = correct / total\n",
        "\n",
        "    return avg_loss, accuracy\n",
        "\n",
        "\n",
        "def plot_kernels(tensor, num_cols=8):\n",
        "    # Compute the number of kernels and the number of rows in the plot\n",
        "    num_kernels = tensor.shape[0]\n",
        "    num_rows = 1 + num_kernels // num_cols\n",
        "\n",
        "    # Create a figure with the specified number of columns and rows\n",
        "    fig = plt.figure(figsize=(num_cols, num_rows))\n",
        "\n",
        "    # Loop over the kernels and plot each one in a separate subplot\n",
        "    for i in range(num_kernels):\n",
        "        # Add a new subplot to the figure\n",
        "        ax1 = fig.add_subplot(num_rows, num_cols, i + 1)\n",
        "\n",
        "        # Plot the first channel of the kernel as a grayscale image\n",
        "        ax1.imshow(tensor[i][0], cmap='gray')\n",
        "\n",
        "        # Turn off the axis labels and tick marks\n",
        "        ax1.axis('off')\n",
        "        ax1.set_xticklabels([])\n",
        "        ax1.set_yticklabels([])\n",
        "\n",
        "    # Adjust the spacing between the subplots\n",
        "    plt.subplots_adjust(wspace=0.1, hspace=0.1)\n",
        "\n",
        "    # Show the plot\n",
        "    plt.show()"
      ]
    },
    {
      "cell_type": "code",
      "execution_count": null,
      "metadata": {},
      "outputs": [],
      "source": []
    },
    {
      "cell_type": "code",
      "execution_count": null,
      "metadata": {},
      "outputs": [],
      "source": [
        "# check if CUDA is available and assigns the device to either the first available CUDA device or the CPU\n",
        "device = torch.device(\"cuda:0\" if torch.cuda.is_available() else \"cpu\")\n",
        "\n",
        "# Define data transforms for training and validation datasets\n",
        "train_transform = transforms.Compose([\n",
        "    transforms.RandomResizedCrop(224),\n",
        "    transforms.RandomHorizontalFlip(),\n",
        "    transforms.ToTensor(),\n",
        "    transforms.Normalize(mean=[0.485, 0.456, 0.406], std=[0.229, 0.224, 0.225])\n",
        "])\n",
        "\n",
        "val_transform = transforms.Compose([\n",
        "    transforms.Resize(256),\n",
        "    transforms.CenterCrop(224),\n",
        "    transforms.ToTensor(),\n",
        "    transforms.Normalize(mean=[0.485, 0.456, 0.406], std=[0.229, 0.224, 0.225])\n",
        "])\n",
        "\n",
        "# Load the data using a DataLoader\n",
        "train_set = ImageFolder('./imagenette2-320/train', transform=train_transform)\n",
        "val_set = ImageFolder('./imagenette2-320/val', transform=val_transform)\n",
        "\n",
        "train_loader = DataLoader(train_set, batch_size=32,\n",
        "                          shuffle=True, num_workers=4)\n",
        "val_loader = DataLoader(val_set, batch_size=32, shuffle=False, num_workers=4)\n",
        "\n",
        "# Define the model and move to device\n",
        "model = VGG13(num_classes=10)\n",
        "model = model.to(device)\n",
        "\n",
        "# Define loss function and optimizer\n",
        "criterion = nn.CrossEntropyLoss()\n",
        "optimizer = optim.Adam(model.parameters(), lr=0.01)\n",
        "\n",
        "# Define cyclic learning rate schedule\n",
        "max_lr = 0.01\n",
        "base_lr = 0.001\n",
        "step_size = len(train_loader) * 2\n",
        "# clr = optim.lr_scheduler.CyclicLR(optimizer, base_lr=base_lr, max_lr=max_lr, step_size_up=step_size)"
      ]
    },
    {
      "cell_type": "code",
      "execution_count": null,
      "metadata": {},
      "outputs": [],
      "source": [
        "# Run the learning rate finder\n",
        "log_lrs, losses = find_lr(model, train_loader, criterion, device, optimizer)\n",
        "\n",
        "# Plot the learning rate vs. loss\n",
        "plt.figure()\n",
        "plt.plot(log_lrs, losses)\n",
        "plt.xlabel(\"Log10 Learning Rate\")\n",
        "plt.ylabel(\"Smoothed Loss\")\n",
        "plt.title(\"Learning Rate vs. Loss\")\n",
        "plt.show()"
      ]
    },
    {
      "cell_type": "code",
      "execution_count": null,
      "metadata": {
        "colab": {
          "base_uri": "https://localhost:8080/",
          "height": 1000
        },
        "id": "MdgNHAgeyJF9",
        "outputId": "81a9b751-8aed-4ced-d274-8ef4a352fa98"
      },
      "outputs": [],
      "source": [
        "# Main training and validation loop\n",
        "num_epochs = 20\n",
        "train_loss_history = []\n",
        "train_acc_history = []\n",
        "val_loss_history = []\n",
        "val_acc_history = []\n",
        "\n",
        "for epoch in range(num_epochs):\n",
        "    train_loss, train_acc = train(\n",
        "        model, train_loader, optimizer, criterion, device)\n",
        "    val_loss, val_acc = validate(model, val_loader, criterion, device)\n",
        "\n",
        "    train_loss_history.append(train_loss)\n",
        "    train_acc_history.append(train_acc)\n",
        "    val_loss_history.append(val_loss)\n",
        "    val_acc_history.append(val_acc)\n",
        "\n",
        "    print(f'Epoch {epoch + 1}, Train Loss: {train_loss:.4f}, Train Acc: {train_acc:.4f}, Val Loss: {val_loss:.4f}, Val Acc: {val_acc:.4f}')\n",
        "\n",
        "# Plotting the training and validation loss\n",
        "plt.figure()\n",
        "plt.plot(train_loss_history, label=\"Train Loss\")\n",
        "plt.plot(val_loss_history, label=\"Validation Loss\")\n",
        "plt.xlabel(\"Epoch\")\n",
        "plt.ylabel(\"Loss\")\n",
        "plt.title(\"Loss history\")\n",
        "plt.legend()\n",
        "plt.show()\n",
        "\n",
        "# Plotting the training and validation accuracy\n",
        "plt.figure()\n",
        "plt.plot(train_acc_history, label=\"Train Accuracy\")\n",
        "plt.plot(val_acc_history, label=\"Validation Accuracy\")\n",
        "plt.xlabel(\"Epoch\")\n",
        "plt.ylabel(\"Accuracy\")\n",
        "plt.title(\"Accuracy history\")\n",
        "plt.legend()\n",
        "plt.show()"
      ]
    },
    {
      "cell_type": "code",
      "execution_count": 27,
      "metadata": {
        "colab": {
          "base_uri": "https://localhost:8080/",
          "height": 808
        },
        "id": "K76XksCBNhGP",
        "outputId": "9a51bfac-2f1c-44a5-c451-61cf6957e653"
      },
      "outputs": [
        {
          "data": {
            "image/png": "[encoded data removed]",
            "text/plain": [
              "<Figure size 1080x1080 with 64 Axes>"
            ]
          },
          "metadata": {
            "needs_background": "light"
          },
          "output_type": "display_data"
        }
      ],
      "source": [
        "visualize_kernels(model)"
      ]
    },
    {
      "cell_type": "code",
      "execution_count": 21,
      "metadata": {
        "id": "9J9QEFV7a71B"
      },
      "outputs": [],
      "source": [
        "# Get the weights of the first Conv2d layer in the conv5 block\n",
        "weights = model.conv1[0].weight.detach().cpu()"
      ]
    },
    {
      "cell_type": "code",
      "execution_count": 23,
      "metadata": {
        "id": "attVSpjfd1MP"
      },
      "outputs": [],
      "source": [
        "weights = model.conv1[0].weight.detach().cpu()"
      ]
    },
    {
      "cell_type": "code",
      "execution_count": 24,
      "metadata": {
        "colab": {
          "base_uri": "https://localhost:8080/",
          "height": 465
        },
        "id": "FLRV52M7dKqi",
        "outputId": "b7859b86-3846-42b8-84c8-18a6a0463f63"
      },
      "outputs": [
        {
          "data": {
            "image/png": "[encoded data removed]",
            "text/plain": [
              "<Figure size 576x648 with 64 Axes>"
            ]
          },
          "metadata": {
            "needs_background": "light"
          },
          "output_type": "display_data"
        }
      ],
      "source": [
        "# Normalize the weights for visualization\n",
        "normalized_weights = (weights - weights.min()) / \\\n",
        "    (weights.max() - weights.min())\n",
        "\n",
        "# Visualize the kernels of the first Conv2d layer in the conv5 block\n",
        "plot_kernels(normalized_weights)"
      ]
    },
    {
      "cell_type": "code",
      "execution_count": 25,
      "metadata": {
        "colab": {
          "base_uri": "https://localhost:8080/",
          "height": 1000
        },
        "id": "N6p5H1vbdMxS",
        "outputId": "360f46e5-d751-4a18-f98c-91b0f6b9749c"
      },
      "outputs": [
        {
          "data": {
            "image/png": "[encoded data removed]",
            "text/plain": [
              "<Figure size 576x4680 with 512 Axes>"
            ]
          },
          "metadata": {
            "needs_background": "light"
          },
          "output_type": "display_data"
        }
      ],
      "source": [
        "weights = model.conv5[0].weight.detach().cpu()\n",
        "\n",
        "# Normalize the weights for visualization\n",
        "normalized_weights = (weights - weights.min()) / \\\n",
        "    (weights.max() - weights.min())\n",
        "\n",
        "# Visualize the kernels of the first Conv2d layer in the conv5 block\n",
        "plot_kernels(normalized_weights)"
      ]
    }
  ],
  "metadata": {
    "accelerator": "GPU",
    "colab": {
      "authorship_tag": "ABX9TyMUqN8e5rrBhCujGlef/oot",
      "include_colab_link": true,
      "provenance": []
    },
    "gpuClass": "standard",
    "kernelspec": {
      "display_name": "Python 3",
      "name": "python3"
    },
    "language_info": {
      "name": "python"
    }
  },
  "nbformat": 4,
  "nbformat_minor": 0
}
